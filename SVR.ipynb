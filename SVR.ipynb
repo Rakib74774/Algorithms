{
 "cells": [
  {
   "cell_type": "code",
   "execution_count": 1,
   "id": "17624cb3-b10d-4edd-b7f5-1ff0f1766c73",
   "metadata": {},
   "outputs": [],
   "source": [
    "from sklearn.svm import SVR\n",
    "from sklearn.metrics import mean_squared_error"
   ]
  },
  {
   "cell_type": "code",
   "execution_count": 3,
   "id": "649a6c7a-e4e0-4340-838e-b1cc99135e98",
   "metadata": {},
   "outputs": [
    {
     "data": {
      "text/plain": [
       "0.9959153739050561"
      ]
     },
     "execution_count": 3,
     "metadata": {},
     "output_type": "execute_result"
    }
   ],
   "source": [
    "x = [[1],[2],[3],[4],[5]]\n",
    "y = [2.1, 4.3, 3.2, 5.2, 6.3]\n",
    "\n",
    "model = SVR(kernel = 'rbf')\n",
    "model.fit(x,y)\n",
    "\n",
    "y_pred = model.predict(x)\n",
    "\n",
    "mse = mean_squared_error(y, y_pred)\n",
    "mse"
   ]
  },
  {
   "cell_type": "code",
   "execution_count": null,
   "id": "07a183c5-7b01-4385-9a47-adfbd9317f15",
   "metadata": {},
   "outputs": [],
   "source": []
  }
 ],
 "metadata": {
  "kernelspec": {
   "display_name": "Python 3 (ipykernel)",
   "language": "python",
   "name": "python3"
  },
  "language_info": {
   "codemirror_mode": {
    "name": "ipython",
    "version": 3
   },
   "file_extension": ".py",
   "mimetype": "text/x-python",
   "name": "python",
   "nbconvert_exporter": "python",
   "pygments_lexer": "ipython3",
   "version": "3.12.4"
  }
 },
 "nbformat": 4,
 "nbformat_minor": 5
}
